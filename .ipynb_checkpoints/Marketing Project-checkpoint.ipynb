{
 "cells": [
  {
   "cell_type": "code",
   "execution_count": 1,
   "metadata": {},
   "outputs": [],
   "source": [
    "import pandas as pd\n",
    "import json\n",
    "import os"
   ]
  },
  {
   "cell_type": "code",
   "execution_count": null,
   "metadata": {
    "scrolled": true
   },
   "outputs": [
    {
     "name": "stdout",
     "output_type": "stream",
     "text": [
      "<_io.TextIOWrapper name='C:/Users/Noah Shimizu/Documents/yelp_academic_dataset_business.json' mode='r' encoding='utf-8'>\n"
     ]
    }
   ],
   "source": [
    "# Loads Dataframe\n",
    "wd = 'C:/Users/Noah Shimizu/Documents/'\n",
    "with open(os.path.join(wd, 'yelp_academic_dataset_business.json'), 'r',\n",
    "          encoding='utf-8') as f1:\n",
    "    print(f1)\n",
    "    df_businesses = pd.read_json(f1, lines = True) \n",
    "df_reviews = pd.read_json('SampleReviews.json', lines = True,\n",
    "          encoding='utf-8') "
   ]
  },
  {
   "cell_type": "code",
   "execution_count": 23,
   "metadata": {},
   "outputs": [],
   "source": [
    "# Drops business without category listed\n",
    "df = df_businesses[df_businesses[\"categories\"].notna()]"
   ]
  },
  {
   "cell_type": "code",
   "execution_count": 24,
   "metadata": {},
   "outputs": [],
   "source": [
    "# Filters out Restaraunts\n",
    "mask = df[\"categories\"].apply(lambda x: \"Restaurants\" in x)\n",
    "df_restaurants = df[mask]"
   ]
  },
  {
   "cell_type": "code",
   "execution_count": 25,
   "metadata": {},
   "outputs": [],
   "source": [
    "df_restaurants = df[mask]"
   ]
  },
  {
   "cell_type": "code",
   "execution_count": 26,
   "metadata": {},
   "outputs": [
    {
     "name": "stderr",
     "output_type": "stream",
     "text": [
      "<ipython-input-26-97f01742afd2>:5: SettingWithCopyWarning: \n",
      "A value is trying to be set on a copy of a slice from a DataFrame.\n",
      "Try using .loc[row_indexer,col_indexer] = value instead\n",
      "\n",
      "See the caveats in the documentation: https://pandas.pydata.org/pandas-docs/stable/user_guide/indexing.html#returning-a-view-versus-a-copy\n",
      "  df_restaurants[\"Price\"] = df_restaurants[\"attributes\"].apply(checkPriceRange2)\n"
     ]
    }
   ],
   "source": [
    "def checkPriceRange2(x):\n",
    "    if(x != None):\n",
    "        if('RestaurantsPriceRange2' in x.keys()):\n",
    "            return x['RestaurantsPriceRange2']\n",
    "df_restaurants[\"Price\"] = df_restaurants[\"attributes\"].apply(checkPriceRange2)"
   ]
  },
  {
   "cell_type": "code",
   "execution_count": 27,
   "metadata": {},
   "outputs": [
    {
     "data": {
      "text/html": [
       "<div>\n",
       "<style scoped>\n",
       "    .dataframe tbody tr th:only-of-type {\n",
       "        vertical-align: middle;\n",
       "    }\n",
       "\n",
       "    .dataframe tbody tr th {\n",
       "        vertical-align: top;\n",
       "    }\n",
       "\n",
       "    .dataframe thead th {\n",
       "        text-align: right;\n",
       "    }\n",
       "</style>\n",
       "<table border=\"1\" class=\"dataframe\">\n",
       "  <thead>\n",
       "    <tr style=\"text-align: right;\">\n",
       "      <th></th>\n",
       "      <th>business_id</th>\n",
       "      <th>name</th>\n",
       "      <th>address</th>\n",
       "      <th>city</th>\n",
       "      <th>state</th>\n",
       "      <th>postal_code</th>\n",
       "      <th>latitude</th>\n",
       "      <th>longitude</th>\n",
       "      <th>stars</th>\n",
       "      <th>review_count</th>\n",
       "      <th>is_open</th>\n",
       "      <th>attributes</th>\n",
       "      <th>categories</th>\n",
       "      <th>hours</th>\n",
       "      <th>Price</th>\n",
       "    </tr>\n",
       "  </thead>\n",
       "  <tbody>\n",
       "    <tr>\n",
       "      <th>3</th>\n",
       "      <td>MTSW4McQd7CbVtyjqoe9mw</td>\n",
       "      <td>St Honore Pastries</td>\n",
       "      <td>935 Race St</td>\n",
       "      <td>Philadelphia</td>\n",
       "      <td>PA</td>\n",
       "      <td>19107</td>\n",
       "      <td>39.955505</td>\n",
       "      <td>-75.155564</td>\n",
       "      <td>4.0</td>\n",
       "      <td>80</td>\n",
       "      <td>1</td>\n",
       "      <td>{'RestaurantsDelivery': 'False', 'OutdoorSeati...</td>\n",
       "      <td>Restaurants, Food, Bubble Tea, Coffee &amp; Tea, B...</td>\n",
       "      <td>{'Monday': '7:0-20:0', 'Tuesday': '7:0-20:0', ...</td>\n",
       "      <td>1</td>\n",
       "    </tr>\n",
       "    <tr>\n",
       "      <th>5</th>\n",
       "      <td>CF33F8-E6oudUQ46HnavjQ</td>\n",
       "      <td>Sonic Drive-In</td>\n",
       "      <td>615 S Main St</td>\n",
       "      <td>Ashland City</td>\n",
       "      <td>TN</td>\n",
       "      <td>37015</td>\n",
       "      <td>36.269593</td>\n",
       "      <td>-87.058943</td>\n",
       "      <td>2.0</td>\n",
       "      <td>6</td>\n",
       "      <td>1</td>\n",
       "      <td>{'BusinessParking': 'None', 'BusinessAcceptsCr...</td>\n",
       "      <td>Burgers, Fast Food, Sandwiches, Food, Ice Crea...</td>\n",
       "      <td>{'Monday': '0:0-0:0', 'Tuesday': '6:0-22:0', '...</td>\n",
       "      <td>1</td>\n",
       "    </tr>\n",
       "    <tr>\n",
       "      <th>8</th>\n",
       "      <td>k0hlBqXX-Bt0vf1op7Jr1w</td>\n",
       "      <td>Tsevi's Pub And Grill</td>\n",
       "      <td>8025 Mackenzie Rd</td>\n",
       "      <td>Affton</td>\n",
       "      <td>MO</td>\n",
       "      <td>63123</td>\n",
       "      <td>38.565165</td>\n",
       "      <td>-90.321087</td>\n",
       "      <td>3.0</td>\n",
       "      <td>19</td>\n",
       "      <td>0</td>\n",
       "      <td>{'Caters': 'True', 'Alcohol': 'u'full_bar'', '...</td>\n",
       "      <td>Pubs, Restaurants, Italian, Bars, American (Tr...</td>\n",
       "      <td>None</td>\n",
       "      <td>1</td>\n",
       "    </tr>\n",
       "    <tr>\n",
       "      <th>9</th>\n",
       "      <td>bBDDEgkFA1Otx9Lfe7BZUQ</td>\n",
       "      <td>Sonic Drive-In</td>\n",
       "      <td>2312 Dickerson Pike</td>\n",
       "      <td>Nashville</td>\n",
       "      <td>TN</td>\n",
       "      <td>37207</td>\n",
       "      <td>36.208102</td>\n",
       "      <td>-86.768170</td>\n",
       "      <td>1.5</td>\n",
       "      <td>10</td>\n",
       "      <td>1</td>\n",
       "      <td>{'RestaurantsAttire': ''casual'', 'Restaurants...</td>\n",
       "      <td>Ice Cream &amp; Frozen Yogurt, Fast Food, Burgers,...</td>\n",
       "      <td>{'Monday': '0:0-0:0', 'Tuesday': '6:0-21:0', '...</td>\n",
       "      <td>1</td>\n",
       "    </tr>\n",
       "    <tr>\n",
       "      <th>11</th>\n",
       "      <td>eEOYSgkmpB90uNA7lDOMRA</td>\n",
       "      <td>Vietnamese Food Truck</td>\n",
       "      <td></td>\n",
       "      <td>Tampa Bay</td>\n",
       "      <td>FL</td>\n",
       "      <td>33602</td>\n",
       "      <td>27.955269</td>\n",
       "      <td>-82.456320</td>\n",
       "      <td>4.0</td>\n",
       "      <td>10</td>\n",
       "      <td>1</td>\n",
       "      <td>{'Alcohol': ''none'', 'OutdoorSeating': 'None'...</td>\n",
       "      <td>Vietnamese, Food, Restaurants, Food Trucks</td>\n",
       "      <td>{'Monday': '11:0-14:0', 'Tuesday': '11:0-14:0'...</td>\n",
       "      <td>None</td>\n",
       "    </tr>\n",
       "    <tr>\n",
       "      <th>...</th>\n",
       "      <td>...</td>\n",
       "      <td>...</td>\n",
       "      <td>...</td>\n",
       "      <td>...</td>\n",
       "      <td>...</td>\n",
       "      <td>...</td>\n",
       "      <td>...</td>\n",
       "      <td>...</td>\n",
       "      <td>...</td>\n",
       "      <td>...</td>\n",
       "      <td>...</td>\n",
       "      <td>...</td>\n",
       "      <td>...</td>\n",
       "      <td>...</td>\n",
       "      <td>...</td>\n",
       "    </tr>\n",
       "    <tr>\n",
       "      <th>150325</th>\n",
       "      <td>l9eLGG9ZKpLJzboZq-9LRQ</td>\n",
       "      <td>Wawa</td>\n",
       "      <td>19 N Bishop Ave</td>\n",
       "      <td>Clifton Heights</td>\n",
       "      <td>PA</td>\n",
       "      <td>19018</td>\n",
       "      <td>39.925656</td>\n",
       "      <td>-75.310344</td>\n",
       "      <td>3.0</td>\n",
       "      <td>11</td>\n",
       "      <td>1</td>\n",
       "      <td>{'BikeParking': 'True', 'BusinessAcceptsCredit...</td>\n",
       "      <td>Restaurants, Sandwiches, Convenience Stores, C...</td>\n",
       "      <td>{'Monday': '0:0-0:0', 'Tuesday': '0:0-0:0', 'W...</td>\n",
       "      <td>1</td>\n",
       "    </tr>\n",
       "    <tr>\n",
       "      <th>150327</th>\n",
       "      <td>cM6V90ExQD6KMSU3rRB5ZA</td>\n",
       "      <td>Dutch Bros Coffee</td>\n",
       "      <td>1181 N Milwaukee St</td>\n",
       "      <td>Boise</td>\n",
       "      <td>ID</td>\n",
       "      <td>83704</td>\n",
       "      <td>43.615401</td>\n",
       "      <td>-116.284689</td>\n",
       "      <td>4.0</td>\n",
       "      <td>33</td>\n",
       "      <td>1</td>\n",
       "      <td>{'WiFi': ''free'', 'RestaurantsGoodForGroups':...</td>\n",
       "      <td>Cafes, Juice Bars &amp; Smoothies, Coffee &amp; Tea, R...</td>\n",
       "      <td>{'Monday': '0:0-0:0', 'Tuesday': '0:0-17:0', '...</td>\n",
       "      <td>1</td>\n",
       "    </tr>\n",
       "    <tr>\n",
       "      <th>150336</th>\n",
       "      <td>WnT9NIzQgLlILjPT0kEcsQ</td>\n",
       "      <td>Adelita Taqueria &amp; Restaurant</td>\n",
       "      <td>1108 S 9th St</td>\n",
       "      <td>Philadelphia</td>\n",
       "      <td>PA</td>\n",
       "      <td>19147</td>\n",
       "      <td>39.935982</td>\n",
       "      <td>-75.158665</td>\n",
       "      <td>4.5</td>\n",
       "      <td>35</td>\n",
       "      <td>1</td>\n",
       "      <td>{'WheelchairAccessible': 'False', 'Restaurants...</td>\n",
       "      <td>Restaurants, Mexican</td>\n",
       "      <td>{'Monday': '11:0-22:0', 'Tuesday': '11:0-22:0'...</td>\n",
       "      <td>2</td>\n",
       "    </tr>\n",
       "    <tr>\n",
       "      <th>150339</th>\n",
       "      <td>2O2K6SXPWv56amqxCECd4w</td>\n",
       "      <td>The Plum Pit</td>\n",
       "      <td>4405 Pennell Rd</td>\n",
       "      <td>Aston</td>\n",
       "      <td>DE</td>\n",
       "      <td>19014</td>\n",
       "      <td>39.856185</td>\n",
       "      <td>-75.427725</td>\n",
       "      <td>4.5</td>\n",
       "      <td>14</td>\n",
       "      <td>1</td>\n",
       "      <td>{'RestaurantsDelivery': 'False', 'BusinessAcce...</td>\n",
       "      <td>Restaurants, Comfort Food, Food, Food Trucks, ...</td>\n",
       "      <td>{'Monday': '0:0-0:0', 'Tuesday': '0:0-0:0', 'W...</td>\n",
       "      <td>1</td>\n",
       "    </tr>\n",
       "    <tr>\n",
       "      <th>150340</th>\n",
       "      <td>hn9Toz3s-Ei3uZPt7esExA</td>\n",
       "      <td>West Side Kebab House</td>\n",
       "      <td>2470 Guardian Road NW</td>\n",
       "      <td>Edmonton</td>\n",
       "      <td>AB</td>\n",
       "      <td>T5T 1K8</td>\n",
       "      <td>53.509649</td>\n",
       "      <td>-113.675999</td>\n",
       "      <td>4.5</td>\n",
       "      <td>18</td>\n",
       "      <td>0</td>\n",
       "      <td>{'Ambience': '{'touristy': False, 'hipster': F...</td>\n",
       "      <td>Middle Eastern, Restaurants</td>\n",
       "      <td>{'Monday': '11:0-22:0', 'Tuesday': '11:0-22:0'...</td>\n",
       "      <td>2</td>\n",
       "    </tr>\n",
       "  </tbody>\n",
       "</table>\n",
       "<p>52268 rows × 15 columns</p>\n",
       "</div>"
      ],
      "text/plain": [
       "                   business_id                           name  \\\n",
       "3       MTSW4McQd7CbVtyjqoe9mw             St Honore Pastries   \n",
       "5       CF33F8-E6oudUQ46HnavjQ                 Sonic Drive-In   \n",
       "8       k0hlBqXX-Bt0vf1op7Jr1w          Tsevi's Pub And Grill   \n",
       "9       bBDDEgkFA1Otx9Lfe7BZUQ                 Sonic Drive-In   \n",
       "11      eEOYSgkmpB90uNA7lDOMRA          Vietnamese Food Truck   \n",
       "...                        ...                            ...   \n",
       "150325  l9eLGG9ZKpLJzboZq-9LRQ                           Wawa   \n",
       "150327  cM6V90ExQD6KMSU3rRB5ZA              Dutch Bros Coffee   \n",
       "150336  WnT9NIzQgLlILjPT0kEcsQ  Adelita Taqueria & Restaurant   \n",
       "150339  2O2K6SXPWv56amqxCECd4w                   The Plum Pit   \n",
       "150340  hn9Toz3s-Ei3uZPt7esExA          West Side Kebab House   \n",
       "\n",
       "                      address             city state postal_code   latitude  \\\n",
       "3                 935 Race St     Philadelphia    PA       19107  39.955505   \n",
       "5               615 S Main St     Ashland City    TN       37015  36.269593   \n",
       "8           8025 Mackenzie Rd           Affton    MO       63123  38.565165   \n",
       "9         2312 Dickerson Pike        Nashville    TN       37207  36.208102   \n",
       "11                                   Tampa Bay    FL       33602  27.955269   \n",
       "...                       ...              ...   ...         ...        ...   \n",
       "150325        19 N Bishop Ave  Clifton Heights    PA       19018  39.925656   \n",
       "150327    1181 N Milwaukee St            Boise    ID       83704  43.615401   \n",
       "150336          1108 S 9th St     Philadelphia    PA       19147  39.935982   \n",
       "150339        4405 Pennell Rd            Aston    DE       19014  39.856185   \n",
       "150340  2470 Guardian Road NW         Edmonton    AB     T5T 1K8  53.509649   \n",
       "\n",
       "         longitude  stars  review_count  is_open  \\\n",
       "3       -75.155564    4.0            80        1   \n",
       "5       -87.058943    2.0             6        1   \n",
       "8       -90.321087    3.0            19        0   \n",
       "9       -86.768170    1.5            10        1   \n",
       "11      -82.456320    4.0            10        1   \n",
       "...            ...    ...           ...      ...   \n",
       "150325  -75.310344    3.0            11        1   \n",
       "150327 -116.284689    4.0            33        1   \n",
       "150336  -75.158665    4.5            35        1   \n",
       "150339  -75.427725    4.5            14        1   \n",
       "150340 -113.675999    4.5            18        0   \n",
       "\n",
       "                                               attributes  \\\n",
       "3       {'RestaurantsDelivery': 'False', 'OutdoorSeati...   \n",
       "5       {'BusinessParking': 'None', 'BusinessAcceptsCr...   \n",
       "8       {'Caters': 'True', 'Alcohol': 'u'full_bar'', '...   \n",
       "9       {'RestaurantsAttire': ''casual'', 'Restaurants...   \n",
       "11      {'Alcohol': ''none'', 'OutdoorSeating': 'None'...   \n",
       "...                                                   ...   \n",
       "150325  {'BikeParking': 'True', 'BusinessAcceptsCredit...   \n",
       "150327  {'WiFi': ''free'', 'RestaurantsGoodForGroups':...   \n",
       "150336  {'WheelchairAccessible': 'False', 'Restaurants...   \n",
       "150339  {'RestaurantsDelivery': 'False', 'BusinessAcce...   \n",
       "150340  {'Ambience': '{'touristy': False, 'hipster': F...   \n",
       "\n",
       "                                               categories  \\\n",
       "3       Restaurants, Food, Bubble Tea, Coffee & Tea, B...   \n",
       "5       Burgers, Fast Food, Sandwiches, Food, Ice Crea...   \n",
       "8       Pubs, Restaurants, Italian, Bars, American (Tr...   \n",
       "9       Ice Cream & Frozen Yogurt, Fast Food, Burgers,...   \n",
       "11             Vietnamese, Food, Restaurants, Food Trucks   \n",
       "...                                                   ...   \n",
       "150325  Restaurants, Sandwiches, Convenience Stores, C...   \n",
       "150327  Cafes, Juice Bars & Smoothies, Coffee & Tea, R...   \n",
       "150336                               Restaurants, Mexican   \n",
       "150339  Restaurants, Comfort Food, Food, Food Trucks, ...   \n",
       "150340                        Middle Eastern, Restaurants   \n",
       "\n",
       "                                                    hours Price  \n",
       "3       {'Monday': '7:0-20:0', 'Tuesday': '7:0-20:0', ...     1  \n",
       "5       {'Monday': '0:0-0:0', 'Tuesday': '6:0-22:0', '...     1  \n",
       "8                                                    None     1  \n",
       "9       {'Monday': '0:0-0:0', 'Tuesday': '6:0-21:0', '...     1  \n",
       "11      {'Monday': '11:0-14:0', 'Tuesday': '11:0-14:0'...  None  \n",
       "...                                                   ...   ...  \n",
       "150325  {'Monday': '0:0-0:0', 'Tuesday': '0:0-0:0', 'W...     1  \n",
       "150327  {'Monday': '0:0-0:0', 'Tuesday': '0:0-17:0', '...     1  \n",
       "150336  {'Monday': '11:0-22:0', 'Tuesday': '11:0-22:0'...     2  \n",
       "150339  {'Monday': '0:0-0:0', 'Tuesday': '0:0-0:0', 'W...     1  \n",
       "150340  {'Monday': '11:0-22:0', 'Tuesday': '11:0-22:0'...     2  \n",
       "\n",
       "[52268 rows x 15 columns]"
      ]
     },
     "execution_count": 27,
     "metadata": {},
     "output_type": "execute_result"
    }
   ],
   "source": [
    "df_restaurants"
   ]
  },
  {
   "cell_type": "code",
   "execution_count": 28,
   "metadata": {},
   "outputs": [
    {
     "data": {
      "text/plain": [
       "150243"
      ]
     },
     "execution_count": 28,
     "metadata": {},
     "output_type": "execute_result"
    }
   ],
   "source": [
    "len(df)"
   ]
  },
  {
   "cell_type": "code",
   "execution_count": 29,
   "metadata": {},
   "outputs": [
    {
     "data": {
      "text/plain": [
       "52268"
      ]
     },
     "execution_count": 29,
     "metadata": {},
     "output_type": "execute_result"
    }
   ],
   "source": [
    "len(df_restaurants)"
   ]
  },
  {
   "cell_type": "code",
   "execution_count": 30,
   "metadata": {},
   "outputs": [
    {
     "data": {
      "text/plain": [
       "'C:\\\\Users\\\\Noah Shimizu\\\\Documents\\\\Jupyter\\\\Marketing\\\\Marketing Project'"
      ]
     },
     "execution_count": 30,
     "metadata": {},
     "output_type": "execute_result"
    }
   ],
   "source": [
    "os.getcwd()"
   ]
  },
  {
   "cell_type": "code",
   "execution_count": 2,
   "metadata": {},
   "outputs": [],
   "source": [
    "import pandas as pd"
   ]
  },
  {
   "cell_type": "code",
   "execution_count": 3,
   "metadata": {},
   "outputs": [],
   "source": [
    "df_reviews = pd.read_csv(\"la_reviews.csv\")"
   ]
  },
  {
   "cell_type": "code",
   "execution_count": 5,
   "metadata": {},
   "outputs": [],
   "source": [
    "df_rest = pd.read_csv(\"la_restaurants.csv\")"
   ]
  },
  {
   "cell_type": "code",
   "execution_count": 8,
   "metadata": {},
   "outputs": [
    {
     "data": {
      "text/plain": [
       "0         Cute interior and owner (?) gave us tour of up...\n",
       "1         This was my first time here and I will be comi...\n",
       "2         We ordered from Melt last night though Waitr. ...\n",
       "3         Finally got to check out Melt, and it certainl...\n",
       "4         Cool vibe! the food is very good, we had the M...\n",
       "                                ...                        \n",
       "558335    This was our first time to eat at Nuccio's.  D...\n",
       "558336    Posting on behalf of my Husband: convenient fa...\n",
       "558337    Spring salad with grilled chicken was one of t...\n",
       "558338    This is the most amazing idea they have ever h...\n",
       "558339    We were gifted lunch coupons from Yelp to eat ...\n",
       "Name: text, Length: 558340, dtype: object"
      ]
     },
     "metadata": {},
     "output_type": "display_data"
    }
   ],
   "source": [
    "reviews = df_reviews[\"text\"]\n",
    "display(reviews)"
   ]
  },
  {
   "cell_type": "code",
   "execution_count": 45,
   "metadata": {},
   "outputs": [
    {
     "name": "stdout",
     "output_type": "stream",
     "text": [
      "Requirement already satisfied: spacy in c:\\users\\noahf\\anaconda3\\lib\\site-packages (3.4.2)\n",
      "Requirement already satisfied: srsly<3.0.0,>=2.4.3 in c:\\users\\noahf\\anaconda3\\lib\\site-packages (from spacy) (2.4.5)\n",
      "Requirement already satisfied: pathy>=0.3.5 in c:\\users\\noahf\\anaconda3\\lib\\site-packages (from spacy) (0.6.2)\n",
      "Requirement already satisfied: numpy>=1.15.0 in c:\\users\\noahf\\anaconda3\\lib\\site-packages (from spacy) (1.21.5)\n",
      "Requirement already satisfied: langcodes<4.0.0,>=3.2.0 in c:\\users\\noahf\\anaconda3\\lib\\site-packages (from spacy) (3.3.0)\n",
      "Requirement already satisfied: spacy-loggers<2.0.0,>=1.0.0 in c:\\users\\noahf\\anaconda3\\lib\\site-packages (from spacy) (1.0.3)\n",
      "Requirement already satisfied: spacy-legacy<3.1.0,>=3.0.10 in c:\\users\\noahf\\anaconda3\\lib\\site-packages (from spacy) (3.0.10)\n",
      "Requirement already satisfied: murmurhash<1.1.0,>=0.28.0 in c:\\users\\noahf\\anaconda3\\lib\\site-packages (from spacy) (1.0.9)\n",
      "Requirement already satisfied: requests<3.0.0,>=2.13.0 in c:\\users\\noahf\\anaconda3\\lib\\site-packages (from spacy) (2.27.1)\n",
      "Requirement already satisfied: jinja2 in c:\\users\\noahf\\anaconda3\\lib\\site-packages (from spacy) (2.11.3)\n",
      "Requirement already satisfied: pydantic!=1.8,!=1.8.1,<1.11.0,>=1.7.4 in c:\\users\\noahf\\anaconda3\\lib\\site-packages (from spacy) (1.10.2)\n",
      "Requirement already satisfied: catalogue<2.1.0,>=2.0.6 in c:\\users\\noahf\\anaconda3\\lib\\site-packages (from spacy) (2.0.8)\n",
      "Requirement already satisfied: wasabi<1.1.0,>=0.9.1 in c:\\users\\noahf\\anaconda3\\lib\\site-packages (from spacy) (0.10.1)\n",
      "Requirement already satisfied: cymem<2.1.0,>=2.0.2 in c:\\users\\noahf\\anaconda3\\lib\\site-packages (from spacy) (2.0.7)\n",
      "Requirement already satisfied: thinc<8.2.0,>=8.1.0 in c:\\users\\noahf\\anaconda3\\lib\\site-packages (from spacy) (8.1.5)\n",
      "Requirement already satisfied: packaging>=20.0 in c:\\users\\noahf\\anaconda3\\lib\\site-packages (from spacy) (21.3)\n",
      "Requirement already satisfied: preshed<3.1.0,>=3.0.2 in c:\\users\\noahf\\anaconda3\\lib\\site-packages (from spacy) (3.0.8)\n",
      "Requirement already satisfied: tqdm<5.0.0,>=4.38.0 in c:\\users\\noahf\\anaconda3\\lib\\site-packages (from spacy) (4.64.0)\n",
      "Requirement already satisfied: setuptools in c:\\users\\noahf\\anaconda3\\lib\\site-packages (from spacy) (61.2.0)\n",
      "Requirement already satisfied: typer<0.5.0,>=0.3.0 in c:\\users\\noahf\\anaconda3\\lib\\site-packages (from spacy) (0.4.2)\n",
      "Requirement already satisfied: pyparsing!=3.0.5,>=2.0.2 in c:\\users\\noahf\\anaconda3\\lib\\site-packages (from packaging>=20.0->spacy) (3.0.4)\n",
      "Requirement already satisfied: smart-open<6.0.0,>=5.2.1 in c:\\users\\noahf\\anaconda3\\lib\\site-packages (from pathy>=0.3.5->spacy) (5.2.1)\n",
      "Requirement already satisfied: typing-extensions>=4.1.0 in c:\\users\\noahf\\anaconda3\\lib\\site-packages (from pydantic!=1.8,!=1.8.1,<1.11.0,>=1.7.4->spacy) (4.1.1)\n",
      "Requirement already satisfied: certifi>=2017.4.17 in c:\\users\\noahf\\anaconda3\\lib\\site-packages (from requests<3.0.0,>=2.13.0->spacy) (2021.10.8)\n",
      "Requirement already satisfied: urllib3<1.27,>=1.21.1 in c:\\users\\noahf\\anaconda3\\lib\\site-packages (from requests<3.0.0,>=2.13.0->spacy) (1.26.9)\n",
      "Requirement already satisfied: charset-normalizer~=2.0.0 in c:\\users\\noahf\\anaconda3\\lib\\site-packages (from requests<3.0.0,>=2.13.0->spacy) (2.0.4)\n",
      "Requirement already satisfied: idna<4,>=2.5 in c:\\users\\noahf\\anaconda3\\lib\\site-packages (from requests<3.0.0,>=2.13.0->spacy) (3.3)\n",
      "Requirement already satisfied: blis<0.8.0,>=0.7.8 in c:\\users\\noahf\\anaconda3\\lib\\site-packages (from thinc<8.2.0,>=8.1.0->spacy) (0.7.9)\n",
      "Requirement already satisfied: confection<1.0.0,>=0.0.1 in c:\\users\\noahf\\anaconda3\\lib\\site-packages (from thinc<8.2.0,>=8.1.0->spacy) (0.0.3)\n",
      "Requirement already satisfied: colorama in c:\\users\\noahf\\anaconda3\\lib\\site-packages (from tqdm<5.0.0,>=4.38.0->spacy) (0.4.4)\n",
      "Requirement already satisfied: click<9.0.0,>=7.1.1 in c:\\users\\noahf\\anaconda3\\lib\\site-packages (from typer<0.5.0,>=0.3.0->spacy) (8.0.4)\n",
      "Requirement already satisfied: MarkupSafe>=0.23 in c:\\users\\noahf\\anaconda3\\lib\\site-packages (from jinja2->spacy) (2.0.1)\n",
      "Requirement already satisfied: spacytextblob in c:\\users\\noahf\\anaconda3\\lib\\site-packages (4.0.0)\n",
      "Requirement already satisfied: spacy<4.0,>=3.0 in c:\\users\\noahf\\anaconda3\\lib\\site-packages (from spacytextblob) (3.4.2)\n",
      "Requirement already satisfied: textblob<0.16.0,>=0.15.3 in c:\\users\\noahf\\anaconda3\\lib\\site-packages (from spacytextblob) (0.15.3)\n",
      "Requirement already satisfied: murmurhash<1.1.0,>=0.28.0 in c:\\users\\noahf\\anaconda3\\lib\\site-packages (from spacy<4.0,>=3.0->spacytextblob) (1.0.9)\n",
      "Requirement already satisfied: requests<3.0.0,>=2.13.0 in c:\\users\\noahf\\anaconda3\\lib\\site-packages (from spacy<4.0,>=3.0->spacytextblob) (2.27.1)\n",
      "Requirement already satisfied: pathy>=0.3.5 in c:\\users\\noahf\\anaconda3\\lib\\site-packages (from spacy<4.0,>=3.0->spacytextblob) (0.6.2)\n",
      "Requirement already satisfied: langcodes<4.0.0,>=3.2.0 in c:\\users\\noahf\\anaconda3\\lib\\site-packages (from spacy<4.0,>=3.0->spacytextblob) (3.3.0)\n",
      "Requirement already satisfied: cymem<2.1.0,>=2.0.2 in c:\\users\\noahf\\anaconda3\\lib\\site-packages (from spacy<4.0,>=3.0->spacytextblob) (2.0.7)\n",
      "Requirement already satisfied: pydantic!=1.8,!=1.8.1,<1.11.0,>=1.7.4 in c:\\users\\noahf\\anaconda3\\lib\\site-packages (from spacy<4.0,>=3.0->spacytextblob) (1.10.2)\n",
      "Requirement already satisfied: spacy-loggers<2.0.0,>=1.0.0 in c:\\users\\noahf\\anaconda3\\lib\\site-packages (from spacy<4.0,>=3.0->spacytextblob) (1.0.3)\n",
      "Requirement already satisfied: packaging>=20.0 in c:\\users\\noahf\\anaconda3\\lib\\site-packages (from spacy<4.0,>=3.0->spacytextblob) (21.3)\n",
      "Requirement already satisfied: numpy>=1.15.0 in c:\\users\\noahf\\anaconda3\\lib\\site-packages (from spacy<4.0,>=3.0->spacytextblob) (1.21.5)\n",
      "Requirement already satisfied: thinc<8.2.0,>=8.1.0 in c:\\users\\noahf\\anaconda3\\lib\\site-packages (from spacy<4.0,>=3.0->spacytextblob) (8.1.5)\n",
      "Requirement already satisfied: preshed<3.1.0,>=3.0.2 in c:\\users\\noahf\\anaconda3\\lib\\site-packages (from spacy<4.0,>=3.0->spacytextblob) (3.0.8)\n",
      "Requirement already satisfied: tqdm<5.0.0,>=4.38.0 in c:\\users\\noahf\\anaconda3\\lib\\site-packages (from spacy<4.0,>=3.0->spacytextblob) (4.64.0)\n",
      "Requirement already satisfied: srsly<3.0.0,>=2.4.3 in c:\\users\\noahf\\anaconda3\\lib\\site-packages (from spacy<4.0,>=3.0->spacytextblob) (2.4.5)\n",
      "Requirement already satisfied: catalogue<2.1.0,>=2.0.6 in c:\\users\\noahf\\anaconda3\\lib\\site-packages (from spacy<4.0,>=3.0->spacytextblob) (2.0.8)\n",
      "Requirement already satisfied: setuptools in c:\\users\\noahf\\anaconda3\\lib\\site-packages (from spacy<4.0,>=3.0->spacytextblob) (61.2.0)\n",
      "Requirement already satisfied: spacy-legacy<3.1.0,>=3.0.10 in c:\\users\\noahf\\anaconda3\\lib\\site-packages (from spacy<4.0,>=3.0->spacytextblob) (3.0.10)\n",
      "Requirement already satisfied: wasabi<1.1.0,>=0.9.1 in c:\\users\\noahf\\anaconda3\\lib\\site-packages (from spacy<4.0,>=3.0->spacytextblob) (0.10.1)\n",
      "Requirement already satisfied: typer<0.5.0,>=0.3.0 in c:\\users\\noahf\\anaconda3\\lib\\site-packages (from spacy<4.0,>=3.0->spacytextblob) (0.4.2)\n",
      "Requirement already satisfied: jinja2 in c:\\users\\noahf\\anaconda3\\lib\\site-packages (from spacy<4.0,>=3.0->spacytextblob) (2.11.3)\n",
      "Requirement already satisfied: pyparsing!=3.0.5,>=2.0.2 in c:\\users\\noahf\\anaconda3\\lib\\site-packages (from packaging>=20.0->spacy<4.0,>=3.0->spacytextblob) (3.0.4)\n",
      "Requirement already satisfied: smart-open<6.0.0,>=5.2.1 in c:\\users\\noahf\\anaconda3\\lib\\site-packages (from pathy>=0.3.5->spacy<4.0,>=3.0->spacytextblob) (5.2.1)\n",
      "Requirement already satisfied: typing-extensions>=4.1.0 in c:\\users\\noahf\\anaconda3\\lib\\site-packages (from pydantic!=1.8,!=1.8.1,<1.11.0,>=1.7.4->spacy<4.0,>=3.0->spacytextblob) (4.1.1)\n",
      "Requirement already satisfied: idna<4,>=2.5 in c:\\users\\noahf\\anaconda3\\lib\\site-packages (from requests<3.0.0,>=2.13.0->spacy<4.0,>=3.0->spacytextblob) (3.3)\n",
      "Requirement already satisfied: certifi>=2017.4.17 in c:\\users\\noahf\\anaconda3\\lib\\site-packages (from requests<3.0.0,>=2.13.0->spacy<4.0,>=3.0->spacytextblob) (2021.10.8)\n",
      "Requirement already satisfied: charset-normalizer~=2.0.0 in c:\\users\\noahf\\anaconda3\\lib\\site-packages (from requests<3.0.0,>=2.13.0->spacy<4.0,>=3.0->spacytextblob) (2.0.4)\n",
      "Requirement already satisfied: urllib3<1.27,>=1.21.1 in c:\\users\\noahf\\anaconda3\\lib\\site-packages (from requests<3.0.0,>=2.13.0->spacy<4.0,>=3.0->spacytextblob) (1.26.9)\n",
      "Requirement already satisfied: nltk>=3.1 in c:\\users\\noahf\\anaconda3\\lib\\site-packages (from textblob<0.16.0,>=0.15.3->spacytextblob) (3.7)\n",
      "Requirement already satisfied: joblib in c:\\users\\noahf\\anaconda3\\lib\\site-packages (from nltk>=3.1->textblob<0.16.0,>=0.15.3->spacytextblob) (1.1.0)\n",
      "Requirement already satisfied: click in c:\\users\\noahf\\anaconda3\\lib\\site-packages (from nltk>=3.1->textblob<0.16.0,>=0.15.3->spacytextblob) (8.0.4)\n",
      "Requirement already satisfied: regex>=2021.8.3 in c:\\users\\noahf\\anaconda3\\lib\\site-packages (from nltk>=3.1->textblob<0.16.0,>=0.15.3->spacytextblob) (2022.3.15)\n",
      "Requirement already satisfied: confection<1.0.0,>=0.0.1 in c:\\users\\noahf\\anaconda3\\lib\\site-packages (from thinc<8.2.0,>=8.1.0->spacy<4.0,>=3.0->spacytextblob) (0.0.3)\n",
      "Requirement already satisfied: blis<0.8.0,>=0.7.8 in c:\\users\\noahf\\anaconda3\\lib\\site-packages (from thinc<8.2.0,>=8.1.0->spacy<4.0,>=3.0->spacytextblob) (0.7.9)\n",
      "Requirement already satisfied: colorama in c:\\users\\noahf\\anaconda3\\lib\\site-packages (from tqdm<5.0.0,>=4.38.0->spacy<4.0,>=3.0->spacytextblob) (0.4.4)\n",
      "Requirement already satisfied: MarkupSafe>=0.23 in c:\\users\\noahf\\anaconda3\\lib\\site-packages (from jinja2->spacy<4.0,>=3.0->spacytextblob) (2.0.1)\n"
     ]
    },
    {
     "name": "stderr",
     "output_type": "stream",
     "text": [
      "Traceback (most recent call last):\n",
      "  File \"C:\\Users\\noahf\\anaconda3\\lib\\site-packages\\urllib3\\connectionpool.py\", line 703, in urlopen\n",
      "    httplib_response = self._make_request(\n",
      "  File \"C:\\Users\\noahf\\anaconda3\\lib\\site-packages\\urllib3\\connectionpool.py\", line 386, in _make_request\n",
      "    self._validate_conn(conn)\n",
      "  File \"C:\\Users\\noahf\\anaconda3\\lib\\site-packages\\urllib3\\connectionpool.py\", line 1040, in _validate_conn\n",
      "    conn.connect()\n",
      "  File \"C:\\Users\\noahf\\anaconda3\\lib\\site-packages\\urllib3\\connection.py\", line 414, in connect\n",
      "    self.sock = ssl_wrap_socket(\n",
      "  File \"C:\\Users\\noahf\\anaconda3\\lib\\site-packages\\urllib3\\util\\ssl_.py\", line 449, in ssl_wrap_socket\n",
      "    ssl_sock = _ssl_wrap_socket_impl(\n",
      "  File \"C:\\Users\\noahf\\anaconda3\\lib\\site-packages\\urllib3\\util\\ssl_.py\", line 493, in _ssl_wrap_socket_impl\n",
      "    return ssl_context.wrap_socket(sock, server_hostname=server_hostname)\n",
      "  File \"C:\\Users\\noahf\\anaconda3\\lib\\ssl.py\", line 500, in wrap_socket\n",
      "    return self.sslsocket_class._create(\n",
      "  File \"C:\\Users\\noahf\\anaconda3\\lib\\ssl.py\", line 1040, in _create\n",
      "    self.do_handshake()\n",
      "  File \"C:\\Users\\noahf\\anaconda3\\lib\\ssl.py\", line 1309, in do_handshake\n",
      "    self._sslobj.do_handshake()\n",
      "ConnectionAbortedError: [WinError 10053] An established connection was aborted by the software in your host machine\n",
      "\n",
      "During handling of the above exception, another exception occurred:\n",
      "\n",
      "Traceback (most recent call last):\n",
      "  File \"C:\\Users\\noahf\\anaconda3\\lib\\site-packages\\requests\\adapters.py\", line 440, in send\n",
      "    resp = conn.urlopen(\n",
      "  File \"C:\\Users\\noahf\\anaconda3\\lib\\site-packages\\urllib3\\connectionpool.py\", line 785, in urlopen\n",
      "    retries = retries.increment(\n",
      "  File \"C:\\Users\\noahf\\anaconda3\\lib\\site-packages\\urllib3\\util\\retry.py\", line 550, in increment\n",
      "    raise six.reraise(type(error), error, _stacktrace)\n",
      "  File \"C:\\Users\\noahf\\anaconda3\\lib\\site-packages\\urllib3\\packages\\six.py\", line 769, in reraise\n",
      "    raise value.with_traceback(tb)\n",
      "  File \"C:\\Users\\noahf\\anaconda3\\lib\\site-packages\\urllib3\\connectionpool.py\", line 703, in urlopen\n",
      "    httplib_response = self._make_request(\n",
      "  File \"C:\\Users\\noahf\\anaconda3\\lib\\site-packages\\urllib3\\connectionpool.py\", line 386, in _make_request\n",
      "    self._validate_conn(conn)\n",
      "  File \"C:\\Users\\noahf\\anaconda3\\lib\\site-packages\\urllib3\\connectionpool.py\", line 1040, in _validate_conn\n",
      "    conn.connect()\n",
      "  File \"C:\\Users\\noahf\\anaconda3\\lib\\site-packages\\urllib3\\connection.py\", line 414, in connect\n",
      "    self.sock = ssl_wrap_socket(\n",
      "  File \"C:\\Users\\noahf\\anaconda3\\lib\\site-packages\\urllib3\\util\\ssl_.py\", line 449, in ssl_wrap_socket\n",
      "    ssl_sock = _ssl_wrap_socket_impl(\n",
      "  File \"C:\\Users\\noahf\\anaconda3\\lib\\site-packages\\urllib3\\util\\ssl_.py\", line 493, in _ssl_wrap_socket_impl\n",
      "    return ssl_context.wrap_socket(sock, server_hostname=server_hostname)\n",
      "  File \"C:\\Users\\noahf\\anaconda3\\lib\\ssl.py\", line 500, in wrap_socket\n",
      "    return self.sslsocket_class._create(\n",
      "  File \"C:\\Users\\noahf\\anaconda3\\lib\\ssl.py\", line 1040, in _create\n",
      "    self.do_handshake()\n",
      "  File \"C:\\Users\\noahf\\anaconda3\\lib\\ssl.py\", line 1309, in do_handshake\n",
      "    self._sslobj.do_handshake()\n",
      "urllib3.exceptions.ProtocolError: ('Connection aborted.', ConnectionAbortedError(10053, 'An established connection was aborted by the software in your host machine', None, 10053, None))\n",
      "\n",
      "During handling of the above exception, another exception occurred:\n",
      "\n",
      "Traceback (most recent call last):\n",
      "  File \"C:\\Users\\noahf\\anaconda3\\lib\\runpy.py\", line 197, in _run_module_as_main\n",
      "    return _run_code(code, main_globals, None,\n",
      "  File \"C:\\Users\\noahf\\anaconda3\\lib\\runpy.py\", line 87, in _run_code\n",
      "    exec(code, run_globals)\n",
      "  File \"C:\\Users\\noahf\\anaconda3\\lib\\site-packages\\spacy\\__main__.py\", line 4, in <module>\n",
      "    setup_cli()\n",
      "  File \"C:\\Users\\noahf\\anaconda3\\lib\\site-packages\\spacy\\cli\\_util.py\", line 71, in setup_cli\n",
      "    command(prog_name=COMMAND)\n",
      "  File \"C:\\Users\\noahf\\anaconda3\\lib\\site-packages\\click\\core.py\", line 1128, in __call__\n",
      "    return self.main(*args, **kwargs)\n",
      "  File \"C:\\Users\\noahf\\anaconda3\\lib\\site-packages\\click\\core.py\", line 1053, in main\n",
      "    rv = self.invoke(ctx)\n",
      "  File \"C:\\Users\\noahf\\anaconda3\\lib\\site-packages\\click\\core.py\", line 1659, in invoke\n",
      "    return _process_result(sub_ctx.command.invoke(sub_ctx))\n",
      "  File \"C:\\Users\\noahf\\anaconda3\\lib\\site-packages\\click\\core.py\", line 1395, in invoke\n",
      "    return ctx.invoke(self.callback, **ctx.params)\n",
      "  File \"C:\\Users\\noahf\\anaconda3\\lib\\site-packages\\click\\core.py\", line 754, in invoke\n",
      "    return __callback(*args, **kwargs)\n",
      "  File \"C:\\Users\\noahf\\anaconda3\\lib\\site-packages\\typer\\main.py\", line 532, in wrapper\n",
      "    return callback(**use_params)  # type: ignore\n",
      "  File \"C:\\Users\\noahf\\anaconda3\\lib\\site-packages\\spacy\\cli\\download.py\", line 36, in download_cli\n",
      "    download(model, direct, sdist, *ctx.args)\n",
      "  File \"C:\\Users\\noahf\\anaconda3\\lib\\site-packages\\spacy\\cli\\download.py\", line 70, in download\n",
      "    compatibility = get_compatibility()\n",
      "  File \"C:\\Users\\noahf\\anaconda3\\lib\\site-packages\\spacy\\cli\\download.py\", line 97, in get_compatibility\n",
      "    r = requests.get(about.__compatibility__)\n",
      "  File \"C:\\Users\\noahf\\anaconda3\\lib\\site-packages\\requests\\api.py\", line 75, in get\n",
      "    return request('get', url, params=params, **kwargs)\n",
      "  File \"C:\\Users\\noahf\\anaconda3\\lib\\site-packages\\requests\\api.py\", line 61, in request\n",
      "    return session.request(method=method, url=url, **kwargs)\n",
      "  File \"C:\\Users\\noahf\\anaconda3\\lib\\site-packages\\requests\\sessions.py\", line 529, in request\n",
      "    resp = self.send(prep, **send_kwargs)\n",
      "  File \"C:\\Users\\noahf\\anaconda3\\lib\\site-packages\\requests\\sessions.py\", line 645, in send\n",
      "    r = adapter.send(request, **kwargs)\n",
      "  File \"C:\\Users\\noahf\\anaconda3\\lib\\site-packages\\requests\\adapters.py\", line 501, in send\n",
      "    raise ConnectionError(err, request=request)\n",
      "requests.exceptions.ConnectionError: ('Connection aborted.', ConnectionAbortedError(10053, 'An established connection was aborted by the software in your host machine', None, 10053, None))\n"
     ]
    },
    {
     "name": "stdout",
     "output_type": "stream",
     "text": [
      "Finished.\n"
     ]
    },
    {
     "name": "stderr",
     "output_type": "stream",
     "text": [
      "[nltk_data] Downloading package brown to\n",
      "[nltk_data]     C:\\Users\\noahf\\AppData\\Roaming\\nltk_data...\n",
      "[nltk_data]   Package brown is already up-to-date!\n",
      "[nltk_data] Downloading package punkt to\n",
      "[nltk_data]     C:\\Users\\noahf\\AppData\\Roaming\\nltk_data...\n",
      "[nltk_data]   Package punkt is already up-to-date!\n",
      "[nltk_data] Downloading package wordnet to\n",
      "[nltk_data]     C:\\Users\\noahf\\AppData\\Roaming\\nltk_data...\n",
      "[nltk_data]   Package wordnet is already up-to-date!\n",
      "[nltk_data] Downloading package averaged_perceptron_tagger to\n",
      "[nltk_data]     C:\\Users\\noahf\\AppData\\Roaming\\nltk_data...\n",
      "[nltk_data]   Package averaged_perceptron_tagger is already up-to-\n",
      "[nltk_data]       date!\n",
      "[nltk_data] Downloading package conll2000 to\n",
      "[nltk_data]     C:\\Users\\noahf\\AppData\\Roaming\\nltk_data...\n",
      "[nltk_data]   Package conll2000 is already up-to-date!\n",
      "[nltk_data] Downloading package movie_reviews to\n",
      "[nltk_data]     C:\\Users\\noahf\\AppData\\Roaming\\nltk_data...\n",
      "[nltk_data]   Package movie_reviews is already up-to-date!\n"
     ]
    }
   ],
   "source": [
    "def check_keyword(sentence, keyword):\n",
    "    if(keyword in sentence):\n",
    "        return sentence\n",
    "\n",
    "import numpy as np\n",
    "target_words = [\"food\", \"service\", \"atmosphere\"]\n",
    "\n",
    "!pip install spacy\n",
    "!pip install spacytextblob\n",
    "!python -m spacy download en_core_web_sm\n",
    "!python -m textblob.download_corpora\n",
    "\n",
    "import spacy\n",
    "from spacytextblob.spacytextblob import SpacyTextBlob\n",
    "\n",
    "nlp = spacy.load('en_core_web_sm')\n",
    "nlp.add_pipe('spacytextblob')    \n",
    "\n",
    "\n"
   ]
  },
  {
   "cell_type": "code",
   "execution_count": 68,
   "metadata": {},
   "outputs": [
    {
     "data": {
      "text/plain": [
       "-0.19999999999999996"
      ]
     },
     "execution_count": 68,
     "metadata": {},
     "output_type": "execute_result"
    }
   ],
   "source": [
    "def rate_sentiments(sentences, score_function = lambda x: nlp(x)._.blob.polarity):\n",
    "    scores = sentences.apply(lambda sentence: score_function(sentence))\n",
    "    return scores.mean()\n",
    "rate_sentiments(pd.Series([\"The food was amazing\", \"The service was terrible\"]))"
   ]
  },
  {
   "cell_type": "code",
   "execution_count": 47,
   "metadata": {},
   "outputs": [
    {
     "data": {
      "text/plain": [
       "['Hello.',\n",
       " 'My name is Earl.',\n",
       " \"I'm the avatar, master of all four elements!\",\n",
       " 'Eat my shorts']"
      ]
     },
     "execution_count": 47,
     "metadata": {},
     "output_type": "execute_result"
    }
   ],
   "source": [
    "import nltk.data\n",
    "sentence_tokenizer = nltk.data.load('tokenizers/punkt/english.pickle')\n",
    "\n",
    "def create_sentences(par):\n",
    "    return sentence_tokenizer.tokenize(par)\n",
    "\n",
    "create_sentences(\"Hello. My name is Earl. I'm the avatar, master of all four elements! Eat my shorts\")"
   ]
  },
  {
   "cell_type": "code",
   "execution_count": null,
   "metadata": {},
   "outputs": [],
   "source": [
    "def create_scores(review_text, word):\n",
    "    sentences = pd.Series(create_sentences(review_text))\n",
    "    return rate_sentiments(sentences)\n",
    "reviews.apply(lambda x: create_scores(x, \"food\")) "
   ]
  },
  {
   "cell_type": "code",
   "execution_count": null,
   "metadata": {},
   "outputs": [],
   "source": [
    "!pip install scipy\n",
    "import scipy\n",
    "df_modeling = df_reviews[target_words]\n",
    "\n",
    "Xb = sm.add_constant(df_modeling)\n",
    "mod = sm.OLS(y_true, Xb )\n",
    "res = mod.fit()\n",
    "res.summary()"
   ]
  }
 ],
 "metadata": {
  "kernelspec": {
   "display_name": "Python 3 (ipykernel)",
   "language": "python",
   "name": "python3"
  },
  "language_info": {
   "codemirror_mode": {
    "name": "ipython",
    "version": 3
   },
   "file_extension": ".py",
   "mimetype": "text/x-python",
   "name": "python",
   "nbconvert_exporter": "python",
   "pygments_lexer": "ipython3",
   "version": "3.9.12"
  }
 },
 "nbformat": 4,
 "nbformat_minor": 4
}
